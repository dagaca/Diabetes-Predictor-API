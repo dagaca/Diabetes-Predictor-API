{
 "cells": [
  {
   "cell_type": "code",
   "execution_count": null,
   "id": "0d6e6796-48ff-41dd-a106-55ba49fd0143",
   "metadata": {},
   "outputs": [],
   "source": [
    "# Import necessary libraries\n",
    "import pandas as pd\n",
    "import matplotlib.pyplot as plt\n",
    "import seaborn as sns\n",
    "\n",
    "# Load the dataset\n",
    "file_path = './data/diabetes.csv'\n",
    "diabetes_data = pd.read_csv(file_path)\n",
    "\n",
    "# Display the first few rows of the dataset\n",
    "diabetes_data.head()"
   ]
  },
  {
   "cell_type": "markdown",
   "id": "a4a4a48d-ed8b-44b3-843c-8bfaa8c27426",
   "metadata": {},
   "source": [
    "## 1. Exploring the Dataset Structure"
   ]
  },
  {
   "cell_type": "markdown",
   "id": "89b272f0-9534-4800-827f-1f281d1a294a",
   "metadata": {},
   "source": [
    "### 1.1 Dataset Structure"
   ]
  },
  {
   "cell_type": "markdown",
   "id": "d785e7f7-747b-4b70-bb7d-e836512cefb1",
   "metadata": {},
   "source": [
    "The `diabetes.csv` dataset contains various biomedical measurements aimed at predicting diabetes. Each row represents data from an individual, along with the outcome of a diabetes diagnosis. The dataset includes the following columns:\n",
    "\n",
    "1. **Pregnancies**: Number of times pregnant.\n",
    "2. **Glucose**: Plasma glucose concentration (2-hour test).\n",
    "3. **BloodPressure**: Diastolic blood pressure (mm Hg).\n",
    "4. **SkinThickness**: Triceps skin fold thickness (mm).\n",
    "5. **Insulin**: 2-hour serum insulin (mu U/ml).\n",
    "6. **BMI**: Body mass index (weight in kg/(height in m)^2).\n",
    "7. **DiabetesPedigreeFunction**: Diabetes pedigree function (a measure of genetic influence on diabetes likelihood).\n",
    "8. **Age**: Age (years).\n",
    "9. **Outcome**: Binary result indicating whether the individual has diabetes (1: Yes, 0: No)."
   ]
  },
  {
   "cell_type": "markdown",
   "id": "2cc7cf80-b142-4012-aeaa-93b43de273d5",
   "metadata": {},
   "source": [
    "### 1.2 Data Preprocessing and Cleaning"
   ]
  },
  {
   "cell_type": "markdown",
   "id": "2e004282-e188-416a-9bb0-874ab662c1e4",
   "metadata": {},
   "source": [
    "#### 1.2.1 Checking for Missing Values"
   ]
  },
  {
   "cell_type": "code",
   "execution_count": null,
   "id": "cc2ff49b-dfb3-476b-a824-9ea999200d39",
   "metadata": {},
   "outputs": [],
   "source": [
    "# Check for missing values\n",
    "missing_values = diabetes_data.isnull().sum()\n",
    "print(\"Actual Missing Values:\\n\", missing_values)\n",
    "\n",
    "# Check for zero values in specific columns (as zero may indicate missing data)\n",
    "columns_to_check = ['Glucose', 'BloodPressure', 'SkinThickness', 'Insulin', 'BMI']\n",
    "zero_values = (diabetes_data[columns_to_check] == 0).sum()\n",
    "print(\"Zero Values (considered as missing data):\\n\", zero_values)"
   ]
  },
  {
   "cell_type": "markdown",
   "id": "8a4b05c1-a845-4f46-946f-018dfb3c6b43",
   "metadata": {},
   "source": [
    "#### 1.2.2 Handling Missing Values"
   ]
  },
  {
   "cell_type": "markdown",
   "id": "2a2956df-c41a-40a6-9b66-dcdcd1f8a810",
   "metadata": {},
   "source": [
    "No `NaN` or null values are found in the dataset. However, zero values in biomedical measurements like Glucose, BloodPressure, SkinThickness, Insulin, and BMI are considered biologically implausible and are treated as missing data. These zeros will be replaced with the median values of their respective columns."
   ]
  },
  {
   "cell_type": "code",
   "execution_count": null,
   "id": "6dae9dcb-ef89-4b9c-bbd7-fd5bda5b7a67",
   "metadata": {},
   "outputs": [],
   "source": [
    "# Replace zero values with the median of the respective columns\n",
    "for col in columns_to_check:\n",
    "    diabetes_data[col] = diabetes_data[col].replace(0, diabetes_data[col].median())\n",
    "\n",
    "# Verify replacement\n",
    "zero_values_after = (diabetes_data[columns_to_check] == 0).sum()\n",
    "print(\"Zero Values After Replacement:\\n\", zero_values_after)"
   ]
  },
  {
   "cell_type": "markdown",
   "id": "f5a8fed5-84da-457e-8c8e-c7ef4c53f1eb",
   "metadata": {},
   "source": [
    "#### 1.2.3 Statistical Summary"
   ]
  },
  {
   "cell_type": "markdown",
   "id": "63035a58-aa6b-49c1-a6a2-b1b4abd57172",
   "metadata": {},
   "source": [
    "A statistical summary is created to understand the distribution of each measurement, identifying potential anomalies:"
   ]
  },
  {
   "cell_type": "code",
   "execution_count": null,
   "id": "53dcea75-5d93-4c83-8233-9356dfce9ede",
   "metadata": {},
   "outputs": [],
   "source": [
    "# Statistical summary\n",
    "statistics_summary = diabetes_data.describe()\n",
    "statistics_summary"
   ]
  },
  {
   "cell_type": "markdown",
   "id": "12b576b8-ce13-4979-9e5c-f27206448f18",
   "metadata": {},
   "source": [
    "### 1.3 Visualizing the Data"
   ]
  },
  {
   "cell_type": "markdown",
   "id": "f6e9d9c9-2169-4abe-8526-92489d4c39b9",
   "metadata": {},
   "source": [
    "#### 1.3.1 Histograms"
   ]
  },
  {
   "cell_type": "markdown",
   "id": "a8897f1b-b036-4944-a71f-5d843b237f61",
   "metadata": {},
   "source": [
    "Histograms are used to visualize the distribution of each variable, which helps in understanding how common or rare each measurement is in the dataset."
   ]
  },
  {
   "cell_type": "code",
   "execution_count": null,
   "id": "63aeff6a-a67d-45f6-b3c1-b2fbe3dc40fe",
   "metadata": {},
   "outputs": [],
   "source": [
    "# Plot histograms for all features\n",
    "diabetes_data.hist(bins=15, figsize=(15, 10), layout=(3, 3), edgecolor='black')\n",
    "plt.suptitle('Distribution of Features in the Diabetes Dataset', fontsize=16)\n",
    "plt.show()"
   ]
  },
  {
   "cell_type": "markdown",
   "id": "6d3687b7-7457-48f9-b8dd-db305945199d",
   "metadata": {},
   "source": [
    "#### 1.3.2 Boxplots"
   ]
  },
  {
   "cell_type": "markdown",
   "id": "5d2c93f9-2d84-4376-a3c5-c7e579aaf126",
   "metadata": {},
   "source": [
    "Boxplots display the median, distribution, and potential outliers for each variable. Outliers represent abnormal data points that need attention."
   ]
  },
  {
   "cell_type": "code",
   "execution_count": null,
   "id": "4b3ff47b-69be-4193-843c-9bd046fdad02",
   "metadata": {},
   "outputs": [],
   "source": [
    "# Plot boxplots for all features\n",
    "plt.figure(figsize=(15, 10))\n",
    "sns.boxplot(data=diabetes_data)\n",
    "plt.title('Boxplot of Features in the Diabetes Dataset')\n",
    "plt.show()"
   ]
  },
  {
   "cell_type": "markdown",
   "id": "61091758-29f0-41b7-8e25-9bcd825f6f2e",
   "metadata": {},
   "source": [
    "#### 1.3.3 Scatter Plots"
   ]
  },
  {
   "cell_type": "markdown",
   "id": "47f66554-4fcc-46de-8272-a29540196601",
   "metadata": {},
   "source": [
    "Scatter plots are used to visualize the relationship between two variables. The `Outcome` variable is used to differentiate diabetic and non-diabetic individuals."
   ]
  },
  {
   "cell_type": "code",
   "execution_count": null,
   "id": "c8f056a0-130f-4237-9b3e-1cbea48e2c4a",
   "metadata": {},
   "outputs": [],
   "source": [
    "# Scatter plot for Glucose vs BMI\n",
    "plt.figure(figsize=(10, 6))\n",
    "sns.scatterplot(x='Glucose', y='BMI', hue='Outcome', data=diabetes_data)\n",
    "plt.title('Glucose vs BMI Scatter Plot')\n",
    "plt.show()\n",
    "\n",
    "# Scatter plot for Age vs BMI\n",
    "plt.figure(figsize=(10, 6))\n",
    "sns.scatterplot(x='Age', y='BMI', hue='Outcome', data=diabetes_data)\n",
    "plt.title('Age vs BMI Scatter Plot')\n",
    "plt.show()"
   ]
  },
  {
   "cell_type": "markdown",
   "id": "e684ce3d-2866-459b-832b-702076b8bdb4",
   "metadata": {},
   "source": [
    "#### 1.3.4 Pair Plot"
   ]
  },
  {
   "cell_type": "markdown",
   "id": "b5b85147-b675-46a6-a8c8-80b655a17f53",
   "metadata": {},
   "source": [
    "Pair plots provide a broader view of relationships between all pairs of features, highlighting general trends and interrelationships."
   ]
  },
  {
   "cell_type": "code",
   "execution_count": null,
   "id": "7123533e-880c-45ec-a062-5a53c03c54e5",
   "metadata": {},
   "outputs": [],
   "source": [
    "# Pairplot of all features\n",
    "sns.pairplot(diabetes_data, hue='Outcome', diag_kind='kde')\n",
    "plt.suptitle('Pairplot of All Features', fontsize=16)\n",
    "plt.show()"
   ]
  },
  {
   "cell_type": "markdown",
   "id": "082a9ebf-0fb7-4979-84e0-c7628e0f0eb1",
   "metadata": {},
   "source": [
    "### 1.4 Correlation Analysis and Heatmap"
   ]
  },
  {
   "cell_type": "markdown",
   "id": "3253b026-7962-481e-a4ea-332b67d2bfb4",
   "metadata": {},
   "source": [
    "A correlation matrix is used to measure the linear relationship between each pair of variables. The correlation coefficient ranges from +1 to -1, with +1 indicating a strong positive relationship and -1 indicating a strong negative relationship."
   ]
  },
  {
   "cell_type": "code",
   "execution_count": null,
   "id": "0d9341fd-5d88-4aa7-ad9e-eafbcb871447",
   "metadata": {},
   "outputs": [],
   "source": [
    "# Correlation matrix\n",
    "correlation_matrix = diabetes_data.corr()\n",
    "\n",
    "# Plotting the heatmap\n",
    "plt.figure(figsize=(12, 10))\n",
    "sns.heatmap(correlation_matrix, annot=True, cmap='coolwarm', vmin=-1, vmax=1)\n",
    "plt.title('Correlation Heatmap')\n",
    "plt.show()"
   ]
  },
  {
   "cell_type": "markdown",
   "id": "85cb198e-17e9-44a0-8ed8-ceaf80677877",
   "metadata": {},
   "source": [
    "#### Interpretation of Correlation Analysis"
   ]
  },
  {
   "cell_type": "markdown",
   "id": "b2fde562-98c7-4a6c-ae94-d116486fffc0",
   "metadata": {},
   "source": [
    "- **Glucose and Outcome**: High positive correlation (0.47). Higher glucose levels are strongly associated with diabetes diagnosis, indicating that glucose is a key predictor.\n",
    "- **BMI and Outcome**: Positive correlation (0.31). High BMI values are associated with increased diabetes risk, highlighting the role of obesity.\n",
    "- **Age and Outcome**: Positive correlation (0.24). Older individuals have a higher likelihood of being diagnosed with diabetes.\n",
    "- **Pregnancies and Outcome**: Low positive correlation (0.22). More pregnancies might slightly increase the risk of diabetes.\n",
    "- **BloodPressure and Outcome**: Very low positive correlation (0.065). There is a weak relationship between blood pressure and diabetes.\n",
    "\n",
    "No negative correlations are observed in this dataset, indicating that the measured variables generally show positive relationships with diabetes diagnosis."
   ]
  },
  {
   "cell_type": "markdown",
   "id": "aa592acf-1dad-4465-a370-2b01ccd1ba0f",
   "metadata": {},
   "source": [
    "### 1.5 General Conclusions"
   ]
  },
  {
   "cell_type": "markdown",
   "id": "c5bbfd2a-6ae5-4a04-975f-e65eea8e1706",
   "metadata": {},
   "source": [
    "- **Glucose**, **BMI**, and **Age** are the strongest indicators for understanding diabetes risk and play a critical role in diabetes prediction.\n",
    "- **Insulin** and **SkinThickness** show lower correlations but are still noteworthy.\n",
    "- **Pregnancies** and **DiabetesPedigreeFunction** have less obvious effects, but they could still influence diabetes risk.\n",
    "\n",
    "These analyses provide a foundation for further modeling and deeper understanding of diabetes prediction. For more questions or additional support, please feel free to ask!"
   ]
  },
  {
   "cell_type": "markdown",
   "id": "86058269-fc4a-47e3-86e5-baefedd05237",
   "metadata": {},
   "source": [
    "### 1.6 Saving Cleaned Data"
   ]
  },
  {
   "cell_type": "code",
   "execution_count": null,
   "id": "9b01214e-372e-46b8-ba1d-f16d6a933d4c",
   "metadata": {},
   "outputs": [],
   "source": [
    "# Save the cleaned dataset to a new CSV file\n",
    "cleaned_data_file = 'cleaned_diabetes_data.csv'\n",
    "diabetes_data.to_csv(cleaned_data_file, index=False)\n",
    "print(f\"Cleaned data has been saved to {cleaned_data_file}\")"
   ]
  }
 ],
 "metadata": {
  "kernelspec": {
   "display_name": "Python 3 (ipykernel)",
   "language": "python",
   "name": "python3"
  },
  "language_info": {
   "codemirror_mode": {
    "name": "ipython",
    "version": 3
   },
   "file_extension": ".py",
   "mimetype": "text/x-python",
   "name": "python",
   "nbconvert_exporter": "python",
   "pygments_lexer": "ipython3",
   "version": "3.12.4"
  }
 },
 "nbformat": 4,
 "nbformat_minor": 5
}
